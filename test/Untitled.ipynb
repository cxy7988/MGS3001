{
 "cells": [
  {
   "cell_type": "code",
   "id": "5749c0c8-ae2c-493b-832d-e13b9d386b1a",
   "metadata": {
    "ExecuteTime": {
     "end_time": "2024-05-24T08:26:37.979937Z",
     "start_time": "2024-05-24T08:26:37.968417Z"
    }
   },
   "source": [
    "print(\"hdiwhifo\")"
   ],
   "outputs": [
    {
     "name": "stdout",
     "output_type": "stream",
     "text": [
      "hdiwhifo\n"
     ]
    }
   ],
   "execution_count": 2
  },
  {
   "cell_type": "code",
   "id": "c052d4e2-8eb5-4e96-80b2-7fd661819e3f",
   "metadata": {
    "ExecuteTime": {
     "end_time": "2024-05-24T08:26:35.440557Z",
     "start_time": "2024-05-24T08:26:35.424551Z"
    }
   },
   "source": [],
   "outputs": [],
   "execution_count": 1
  },
  {
   "metadata": {},
   "cell_type": "code",
   "outputs": [],
   "execution_count": null,
   "source": "",
   "id": "5bfb8be04f441a05"
  }
 ],
 "metadata": {
  "kernelspec": {
   "display_name": "Python 3 (ipykernel)",
   "language": "python",
   "name": "python3"
  },
  "language_info": {
   "codemirror_mode": {
    "name": "ipython",
    "version": 3
   },
   "file_extension": ".py",
   "mimetype": "text/x-python",
   "name": "python",
   "nbconvert_exporter": "python",
   "pygments_lexer": "ipython3",
   "version": "3.9.18"
  }
 },
 "nbformat": 4,
 "nbformat_minor": 5
}
